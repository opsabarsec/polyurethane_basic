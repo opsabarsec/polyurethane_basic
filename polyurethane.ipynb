{
  "nbformat": 4,
  "nbformat_minor": 0,
  "metadata": {
    "colab": {
      "provenance": [],
      "authorship_tag": "ABX9TyPElqOXUE9/qkK1x+1pXaG1",
      "include_colab_link": true
    },
    "kernelspec": {
      "name": "python3",
      "display_name": "Python 3"
    },
    "language_info": {
      "name": "python"
    }
  },
  "cells": [
    {
      "cell_type": "markdown",
      "metadata": {
        "id": "view-in-github",
        "colab_type": "text"
      },
      "source": [
        "<a href=\"https://colab.research.google.com/github/opsabarsec/polyurethane_basic/blob/main/polyurethane.ipynb\" target=\"_parent\"><img src=\"https://colab.research.google.com/assets/colab-badge.svg\" alt=\"Open In Colab\"/></a>"
      ]
    },
    {
      "cell_type": "markdown",
      "source": [
        "# Polyurethanes calculations\n",
        "\n",
        "In this notebook I show some basic calculations for polyurethane chemistry"
      ],
      "metadata": {
        "id": "NLCk-ZVG89C9"
      }
    },
    {
      "cell_type": "code",
      "source": [
        "!pip install rdkit"
      ],
      "metadata": {
        "colab": {
          "base_uri": "https://localhost:8080/"
        },
        "id": "z9GN_c6p-gcb",
        "outputId": "25dd121f-cdd9-4b3c-c290-5a7c2fff369b"
      },
      "execution_count": null,
      "outputs": [
        {
          "output_type": "stream",
          "name": "stdout",
          "text": [
            "Requirement already satisfied: rdkit in /usr/local/lib/python3.10/dist-packages (2024.9.3)\n",
            "Requirement already satisfied: numpy in /usr/local/lib/python3.10/dist-packages (from rdkit) (1.26.4)\n",
            "Requirement already satisfied: Pillow in /usr/local/lib/python3.10/dist-packages (from rdkit) (11.0.0)\n"
          ]
        }
      ]
    },
    {
      "cell_type": "markdown",
      "source": [
        "## 1. Describe reactants"
      ],
      "metadata": {
        "id": "7kdXDgCqEYE8"
      }
    },
    {
      "cell_type": "code",
      "execution_count": null,
      "metadata": {
        "id": "3azzNlsa88KX"
      },
      "outputs": [],
      "source": [
        "import rdkit\n",
        "from rdkit import Chem\n",
        "import rdkit.Chem.rdMolDescriptors"
      ]
    },
    {
      "cell_type": "markdown",
      "source": [
        "You can draw your molecule on this website\n",
        "https://www.cheminfo.org/Chemistry/Cheminformatics/FormatConverter/index.html\n",
        "and get the corresponding formula for the SMILE. For example a triol that will react with di-isocyanates to form a polyurethane\n"
      ],
      "metadata": {
        "id": "NDCxPcQ9CYwe"
      }
    },
    {
      "cell_type": "code",
      "source": [
        "triol = Chem.MolFromSmiles('OCCCC(CCO)CCCO')\n",
        "polyol_functionality = 3\n",
        "triol"
      ],
      "metadata": {
        "colab": {
          "base_uri": "https://localhost:8080/",
          "height": 167
        },
        "id": "eqwTnoaY-mb1",
        "outputId": "91a8fa63-85bc-495f-80e6-98926db0ee32"
      },
      "execution_count": null,
      "outputs": [
        {
          "output_type": "execute_result",
          "data": {
            "text/plain": [
              "<rdkit.Chem.rdchem.Mol at 0x7ee137bcf680>"
            ],
            "image/png": "[encoded data removed]"
          },
          "metadata": {},
          "execution_count": 22
        }
      ]
    },
    {
      "cell_type": "code",
      "source": [
        "MDI_isocyanate= Chem.MolFromSmiles('c1(cccc(c1)Cc1ccc(cc1)N=C=O)N=C=O')\n",
        "isocyanate_functionality = 2\n",
        "MDI_isocyanate"
      ],
      "metadata": {
        "colab": {
          "base_uri": "https://localhost:8080/",
          "height": 167
        },
        "id": "jMtjgb2fCDag",
        "outputId": "af51b216-22a8-4682-9861-986e3e61ee21"
      },
      "execution_count": null,
      "outputs": [
        {
          "output_type": "execute_result",
          "data": {
            "text/plain": [
              "<rdkit.Chem.rdchem.Mol at 0x7ee137bcf7d0>"
            ],
            "image/png": "[encoded data removed]"
          },
          "metadata": {},
          "execution_count": 23
        }
      ]
    },
    {
      "cell_type": "markdown",
      "source": [
        "## 2. Properties from structures"
      ],
      "metadata": {
        "id": "qrRgdIN3MijW"
      }
    },
    {
      "cell_type": "code",
      "source": [
        "molecular_weight_triol = rdkit.Chem.rdMolDescriptors._CalcMolWt(triol)\n",
        "molecular_MDI = rdkit.Chem.rdMolDescriptors._CalcMolWt(MDI_isocyanate)\n",
        "\n",
        "print('molecular weigth of our triol: ', round(molecular_weight_triol,1),'grams/mole', 'number of reactive sites: ', polyol_functionality)\n",
        "print('molecular weigth of our isocyanate: ', round(molecular_MDI,1),'grams/mole', 'number of reactive sites: ', isocyanate_functionality)"
      ],
      "metadata": {
        "colab": {
          "base_uri": "https://localhost:8080/"
        },
        "id": "GYQhBAwYBN8E",
        "outputId": "4f3049db-2d2b-4222-fae9-143da20b36e1"
      },
      "execution_count": null,
      "outputs": [
        {
          "output_type": "stream",
          "name": "stdout",
          "text": [
            "molecular weigth of our triol:  176.3 grams/mole number of reactive sites:  3\n",
            "molecular weigth of our isocyanate:  250.3 grams/mole number of reactive sites:  2\n"
          ]
        }
      ]
    },
    {
      "cell_type": "markdown",
      "source": [
        "## 3. Finally some calculations"
      ],
      "metadata": {
        "id": "3r-PA91IMo5Q"
      }
    },
    {
      "cell_type": "code",
      "source": [
        "Equivalent_weight_polyol = molecular_weight_triol/polyol_functionality\n",
        "Equivalent_weight_isocyanate   = molecular_MDI/isocyanate_functionality\n",
        "\n",
        "print('Equivalent weight of polyol: ', round(Equivalent_weight_polyol,1),'grams/eq')\n",
        "print('Equivalent weight of isocyanate: ', round(Equivalent_weight_isocyanate,1),'grams/eq')"
      ],
      "metadata": {
        "colab": {
          "base_uri": "https://localhost:8080/"
        },
        "id": "LEXx9RCbGtVI",
        "outputId": "3fc450a7-54e7-4378-d032-70ce6bcdaef0"
      },
      "execution_count": null,
      "outputs": [
        {
          "output_type": "stream",
          "name": "stdout",
          "text": [
            "Equivalent weight of polyol:  58.8 grams/eq\n",
            "Equivalent weight of isocyanate:  125.1 grams/eq\n"
          ]
        }
      ]
    },
    {
      "cell_type": "markdown",
      "source": [
        "The OH value which nobody seems to get at first sight is the ratio of the equivalent weight of KOH (used to titrate the polyol) to the equivalent weight of the polyol"
      ],
      "metadata": {
        "id": "sMlYdqG3OFeU"
      }
    },
    {
      "cell_type": "code",
      "source": [
        "molecular_weight_KOH = 56.1\n",
        "mg_per_gram = 1000\n",
        "reactive_sites_koh = 1\n",
        "equivalent_weight_KOH = molecular_weight_KOH*mg_per_gram/reactive_sites_koh\n",
        "\n",
        "print('Equivalent weight of KOH: ', round(equivalent_weight_KOH,1))\n",
        "OH_value = equivalent_weight_KOH/Equivalent_weight_polyol\n",
        "print('OH value: ', round(OH_value,3))"
      ],
      "metadata": {
        "colab": {
          "base_uri": "https://localhost:8080/"
        },
        "id": "QkT7OKnNOEvM",
        "outputId": "ce60bbe3-fca6-4095-eca7-8ada26913703"
      },
      "execution_count": null,
      "outputs": [
        {
          "output_type": "stream",
          "name": "stdout",
          "text": [
            "Equivalent weight of KOH:  56100.0\n",
            "OH value:  954.861\n"
          ]
        }
      ]
    },
    {
      "cell_type": "code",
      "source": [
        "weight_OH = 17\n",
        "percent_OH = (OH_value*100*weight_OH)/(Equivalent_weight_polyol*1000)\n",
        "print('Percent OH: ', round(percent_OH,1), '%')"
      ],
      "metadata": {
        "colab": {
          "base_uri": "https://localhost:8080/"
        },
        "id": "pnPjqMORPCEs",
        "outputId": "246785b9-cb36-4dc0-e950-59ab9f271ef9"
      },
      "execution_count": null,
      "outputs": [
        {
          "output_type": "stream",
          "name": "stdout",
          "text": [
            "Percent OH:  27.6 %\n"
          ]
        }
      ]
    },
    {
      "cell_type": "markdown",
      "source": [
        "When a polyol is supplied often we get both OH value and functionality. Easy to get the molecular weight from this information"
      ],
      "metadata": {
        "id": "R6a93QxkRB-i"
      }
    },
    {
      "cell_type": "code",
      "source": [
        "MW_polyol = polyol_functionality*molecular_weight_KOH*1000/OH_value\n",
        "print('Molecular weight of polyol: ', round(MW_polyol,1), 'g/mol')"
      ],
      "metadata": {
        "colab": {
          "base_uri": "https://localhost:8080/"
        },
        "id": "AoGCiS4JQpJs",
        "outputId": "918f12ea-a3ff-4d5a-c36b-00d1779d36f1"
      },
      "execution_count": null,
      "outputs": [
        {
          "output_type": "stream",
          "name": "stdout",
          "text": [
            "Molecular weight of polyol:  176.3 g/mol\n"
          ]
        }
      ]
    },
    {
      "cell_type": "markdown",
      "source": [
        "## 3. How much do we need for the reaction?\n"
      ],
      "metadata": {
        "id": "OaNCJKYIUP9y"
      }
    },
    {
      "cell_type": "code",
      "source": [
        "isocyanate_index = 1.1\n",
        "# the isocyanate index is the ratio between the isocyanate really needed and that needed theoretically.\n",
        "# Empirical value that depends also on additions of other reactants such as water if we make a polyurethane foam"
      ],
      "metadata": {
        "id": "ZDSauejrUUBZ"
      },
      "execution_count": null,
      "outputs": []
    },
    {
      "cell_type": "code",
      "source": [
        "weight_polyol = 100\n",
        "print(\"I start the reaction with\",weight_polyol,\"grams of polyol\")\n",
        "equivalents_polyol = weight_polyol/Equivalent_weight_polyol\n",
        "print(\"corresponding to\",round(equivalents_polyol,1),\"OH gram equivalents\")"
      ],
      "metadata": {
        "id": "eBn3v45QWtZf",
        "colab": {
          "base_uri": "https://localhost:8080/"
        },
        "outputId": "4306f9ea-7ec7-4875-f94d-a8ef0dccedef"
      },
      "execution_count": null,
      "outputs": [
        {
          "output_type": "stream",
          "name": "stdout",
          "text": [
            "I start the reaction with 100 grams of polyol\n",
            "corresponding to 1.7 OH gram equivalents\n"
          ]
        }
      ]
    },
    {
      "cell_type": "code",
      "source": [
        "grams_isocyanate =equivalents_polyol*Equivalent_weight_isocyanate*isocyanate_index\n",
        "print(\"I need\",round(grams_isocyanate,1),\"grams of isocyanate\")"
      ],
      "metadata": {
        "colab": {
          "base_uri": "https://localhost:8080/"
        },
        "id": "k3KsWYqLT-5_",
        "outputId": "dcce0620-bbb0-462b-f039-1925e136345b"
      },
      "execution_count": null,
      "outputs": [
        {
          "output_type": "stream",
          "name": "stdout",
          "text": [
            "I need 234.3 grams of isocyanate\n"
          ]
        }
      ]
    }
  ]
}